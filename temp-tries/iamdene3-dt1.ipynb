{
 "cells": [
  {
   "cell_type": "markdown",
   "id": "330b6ddd",
   "metadata": {},
   "source": [
    "# Imports"
   ]
  },
  {
   "cell_type": "code",
   "execution_count": 27,
   "id": "2a07e83c",
   "metadata": {},
   "outputs": [],
   "source": [
    "from tensorflow.keras.layers import StringLookup\n",
    "from tensorflow import keras\n",
    "\n",
    "import matplotlib.pyplot as plt\n",
    "import tensorflow as tf\n",
    "import numpy as np\n",
    "import pandas as pd\n",
    "import os\n",
    "\n",
    "np.random.seed(42)\n",
    "tf.random.set_seed(42)"
   ]
  },
  {
   "cell_type": "markdown",
   "id": "d6aa0920",
   "metadata": {},
   "source": [
    "# Dataset Splitting"
   ]
  },
  {
   "cell_type": "code",
   "execution_count": 28,
   "id": "49f15bcb",
   "metadata": {},
   "outputs": [
    {
     "name": "stdout",
     "output_type": "stream",
     "text": [
      "Number of NaNs in train set :  565\n",
      "Number of NaNs in test set :  70\n",
      "Number of NaNs in validation set :  78\n"
     ]
    }
   ],
   "source": [
    "base_path = \"handwriting-recognition\"\n",
    "\n",
    "img_dir_train = 'handwriting-recognition/train_v2/train/'\n",
    "img_dir_test = 'handwriting-recognition/test_v2/test/'\n",
    "img_dir_val = 'handwriting-recognition/validation_v2/validation/'\n",
    "\n",
    "train_words = pd.read_csv('handwriting-recognition/written_name_train_v2.csv')\n",
    "test_words = pd.read_csv('handwriting-recognition/written_name_test_v2.csv')\n",
    "val_words = pd.read_csv('handwriting-recognition/written_name_validation_v2.csv')\n",
    "\n",
    "print(\"Number of NaNs in train set : \", train_words['IDENTITY'].isnull().sum())\n",
    "print(\"Number of NaNs in test set : \", test_words['IDENTITY'].isnull().sum())\n",
    "print(\"Number of NaNs in validation set : \", val_words['IDENTITY'].isnull().sum())\n",
    "train_words.dropna(axis=0, inplace=True)\n",
    "test_words.dropna(axis=0, inplace=True)\n",
    "val_words.dropna(axis=0, inplace=True)\n",
    "\n",
    "train_words = train_words[train_words['IDENTITY'] != 'UNREADABLE']\n",
    "test_words = test_words[test_words['IDENTITY'] != 'UNREADABLE']\n",
    "val_words = val_words[val_words['IDENTITY'] != 'UNREADABLE']\n",
    "\n",
    "train_words = train_words.sample(frac=0.1, random_state=42)\n",
    "test_words = test_words.sample(frac=0.1, random_state=42)\n",
    "val_words = val_words.sample(frac=0.1, random_state=42)\n",
    "\n",
    "train_words = train_words.reset_index(drop=True)\n",
    "test_words = test_words.reset_index(drop=True)\n",
    "val_words = val_words.reset_index(drop=True)"
   ]
  },
  {
   "cell_type": "markdown",
   "id": "17bbe256",
   "metadata": {},
   "source": [
    "# Split 80 10 10"
   ]
  },
  {
   "cell_type": "code",
   "execution_count": 29,
   "id": "858c661c",
   "metadata": {},
   "outputs": [
    {
     "name": "stdout",
     "output_type": "stream",
     "text": [
      "Total training samples: 33029\n",
      "Total validation samples: 4128\n",
      "Total test samples: 4129\n",
      "Total: 41286\n"
     ]
    }
   ],
   "source": [
    "print(f\"Total training samples: {len(train_words)}\")\n",
    "print(f\"Total validation samples: {len(val_words)}\")\n",
    "print(f\"Total test samples: {len(test_words)}\")\n",
    "print(f\"Total: {len(train_words) + len(val_words) + len(test_words)}\")"
   ]
  },
  {
   "cell_type": "code",
   "execution_count": 30,
   "id": "e70e790a",
   "metadata": {},
   "outputs": [],
   "source": [
    "def get_image_paths_and_labels(df, img_dir):\n",
    "    paths = []\n",
    "    labels = []\n",
    "    for i in range(len(df)):\n",
    "        img_path = os.path.join(img_dir, df.loc[i, 'FILENAME'])\n",
    "        if os.path.getsize(img_path):\n",
    "            paths.append(img_path)\n",
    "            labels.append(df.loc[i, 'IDENTITY'])\n",
    "    return paths, labels\n",
    "\n",
    "train_img_paths, train_labels = get_image_paths_and_labels(train_words, img_dir_train)\n",
    "test_img_paths, test_labels = get_image_paths_and_labels(test_words, img_dir_test)\n",
    "validation_img_paths, validation_labels = get_image_paths_and_labels(val_words, img_dir_val)"
   ]
  },
  {
   "cell_type": "markdown",
   "id": "40db1392",
   "metadata": {},
   "source": [
    "# Ground Truth Tables"
   ]
  },
  {
   "cell_type": "code",
   "execution_count": 31,
   "id": "878d49ee",
   "metadata": {},
   "outputs": [
    {
     "name": "stdout",
     "output_type": "stream",
     "text": [
      "Maximum length:  19\n",
      "Vocab size:  41\n"
     ]
    },
    {
     "data": {
      "text/plain": [
       "['JEGO',\n",
       " 'YASMINE',\n",
       " 'CHLOE',\n",
       " 'CHEVALIER',\n",
       " 'DROUET',\n",
       " 'ZOE',\n",
       " 'ELIAS',\n",
       " 'THOMAS',\n",
       " 'EMMA',\n",
       " 'RIBEIRO']"
      ]
     },
     "execution_count": 31,
     "metadata": {},
     "output_type": "execute_result"
    }
   ],
   "source": [
    "# Find maximum length and the size of the vocabulary in the training data.\n",
    "train_labels_cleaned = []\n",
    "characters = set()\n",
    "max_len = 0\n",
    "\n",
    "for label in train_labels:\n",
    "    label = label.split(\" \")[-1].strip()\n",
    "    for char in label:\n",
    "        characters.add(char)\n",
    "\n",
    "    max_len = max(max_len, len(label))\n",
    "    train_labels_cleaned.append(label)\n",
    "\n",
    "characters = sorted(list(characters))\n",
    "\n",
    "print(\"Maximum length: \", max_len)\n",
    "print(\"Vocab size: \", len(characters))\n",
    "\n",
    "# Check some label samples.\n",
    "train_labels_cleaned[:10]"
   ]
  },
  {
   "cell_type": "markdown",
   "id": "b62b3d62",
   "metadata": {},
   "source": [
    "# Clean Labels"
   ]
  },
  {
   "cell_type": "code",
   "execution_count": 32,
   "id": "bea8fec7",
   "metadata": {},
   "outputs": [],
   "source": [
    "def clean_labels(labels):\n",
    "    cleaned_labels = []\n",
    "    for label in labels:\n",
    "        label = label.split(\" \")[-1].strip()\n",
    "        cleaned_labels.append(label)\n",
    "    return cleaned_labels\n",
    "\n",
    "\n",
    "validation_labels_cleaned = clean_labels(validation_labels)\n",
    "test_labels_cleaned = clean_labels(test_labels)"
   ]
  },
  {
   "cell_type": "markdown",
   "id": "f49bf74b",
   "metadata": {},
   "source": [
    "# Building Character Vocabulary"
   ]
  },
  {
   "cell_type": "code",
   "execution_count": 33,
   "id": "879fd194",
   "metadata": {},
   "outputs": [
    {
     "name": "stdout",
     "output_type": "stream",
     "text": [
      "['[UNK]', \"'\", '-', 'A', 'B', 'C', 'D', 'E', 'F', 'G', 'H', 'I', 'J', 'K', 'L', 'M', 'N', 'O', 'P', 'Q', 'R', 'S', 'T', 'U', 'V', 'W', 'X', 'Y', 'Z', '`', 'a', 'b', 'c', 'e', 'i', 'l', 'm', 'o', 'r', 'u', 'y', 'z']\n"
     ]
    }
   ],
   "source": [
    "AUTOTUNE = tf.data.AUTOTUNE\n",
    "\n",
    "# Mapping characters to integers.\n",
    "char_to_num = StringLookup(vocabulary=list(characters), mask_token=None)\n",
    "\n",
    "# Mapping integers back to original characters.\n",
    "num_to_char = StringLookup(\n",
    "    vocabulary=char_to_num.get_vocabulary(), mask_token=None, invert=True\n",
    ")\n",
    "\n",
    "print(char_to_num.get_vocabulary())"
   ]
  },
  {
   "cell_type": "markdown",
   "id": "d365346f",
   "metadata": {},
   "source": [
    "# Resizing Images"
   ]
  },
  {
   "cell_type": "code",
   "execution_count": 34,
   "id": "45f822b1",
   "metadata": {},
   "outputs": [],
   "source": [
    "def distortion_free_resize(image, img_size):\n",
    "    w, h = img_size\n",
    "    image = tf.image.resize(image, size=(h, w), preserve_aspect_ratio=True)\n",
    "\n",
    "    # Check tha amount of padding needed to be done.\n",
    "    pad_height = h - tf.shape(image)[0]\n",
    "    pad_width = w - tf.shape(image)[1]\n",
    "\n",
    "    # Only necessary if you want to do same amount of padding on both sides.\n",
    "    if pad_height % 2 != 0:\n",
    "        height = pad_height // 2\n",
    "        pad_height_top = height + 1\n",
    "        pad_height_bottom = height\n",
    "    else:\n",
    "        pad_height_top = pad_height_bottom = pad_height // 2\n",
    "\n",
    "    if pad_width % 2 != 0:\n",
    "        width = pad_width // 2\n",
    "        pad_width_left = width + 1\n",
    "        pad_width_right = width\n",
    "    else:\n",
    "        pad_width_left = pad_width_right = pad_width // 2\n",
    "\n",
    "    image = tf.pad(\n",
    "        image,\n",
    "        paddings=[\n",
    "            [pad_height_top, pad_height_bottom],\n",
    "            [pad_width_left, pad_width_right],\n",
    "            [0, 0],\n",
    "        ],\n",
    "    )\n",
    "\n",
    "    image = tf.transpose(image, perm=[1, 0, 2])\n",
    "    image = tf.image.flip_left_right(image)\n",
    "    return image"
   ]
  },
  {
   "cell_type": "markdown",
   "id": "2077ca60",
   "metadata": {},
   "source": [
    "# Utilities"
   ]
  },
  {
   "cell_type": "code",
   "execution_count": 35,
   "id": "19e943b3",
   "metadata": {},
   "outputs": [],
   "source": [
    "batch_size = 64\n",
    "padding_token = 99\n",
    "image_width = 128\n",
    "image_height = 32\n",
    "\n",
    "\n",
    "def preprocess_image(image_path, img_size=(image_width, image_height)):\n",
    "    image = tf.io.read_file(image_path)\n",
    "    image = tf.image.decode_png(image, 1)\n",
    "    image = distortion_free_resize(image, img_size)\n",
    "    image = tf.cast(image, tf.float32) / 255.0\n",
    "    return image\n",
    "\n",
    "\n",
    "def vectorize_label(label):\n",
    "    label = char_to_num(tf.strings.unicode_split(label, input_encoding=\"UTF-8\"))\n",
    "    length = tf.shape(label)[0]\n",
    "    pad_amount = max_len - length\n",
    "    label = tf.pad(label, paddings=[[0, pad_amount]], constant_values=padding_token)\n",
    "    return label\n",
    "\n",
    "\n",
    "def process_images_labels(image_path, label):\n",
    "    image = preprocess_image(image_path)\n",
    "    label = vectorize_label(label)\n",
    "    return {\"image\": image, \"label\": label}\n",
    "\n",
    "\n",
    "def prepare_dataset(image_paths, labels):\n",
    "    dataset = tf.data.Dataset.from_tensor_slices((image_paths, labels)).map(\n",
    "        process_images_labels, num_parallel_calls=AUTOTUNE\n",
    "    )\n",
    "    return dataset.batch(batch_size).cache().prefetch(AUTOTUNE)\n"
   ]
  },
  {
   "cell_type": "markdown",
   "id": "6f1bda0f",
   "metadata": {},
   "source": [
    "# Prepare Dataset"
   ]
  },
  {
   "cell_type": "code",
   "execution_count": 36,
   "id": "e1610dab",
   "metadata": {},
   "outputs": [],
   "source": [
    "train_ds = prepare_dataset(train_img_paths, train_labels_cleaned)\n",
    "validation_ds = prepare_dataset(validation_img_paths, validation_labels_cleaned)\n",
    "test_ds = prepare_dataset(test_img_paths, test_labels_cleaned)"
   ]
  },
  {
   "cell_type": "markdown",
   "id": "074702f3",
   "metadata": {},
   "source": [
    "# Visualize Few Samples"
   ]
  },
  {
   "cell_type": "code",
   "execution_count": 37,
   "id": "d339ebca",
   "metadata": {},
   "outputs": [
    {
     "data": {
      "image/png": "[encoded data removed]",
      "text/plain": [
       "<Figure size 1500x800 with 16 Axes>"
      ]
     },
     "metadata": {},
     "output_type": "display_data"
    }
   ],
   "source": [
    "for data in train_ds.take(1):\n",
    "    images, labels = data[\"image\"], data[\"label\"]\n",
    "\n",
    "    _, ax = plt.subplots(4, 4, figsize=(15, 8))\n",
    "\n",
    "    for i in range(16):\n",
    "        img = images[i]\n",
    "        img = tf.image.flip_left_right(img)\n",
    "        img = tf.transpose(img, perm=[1, 0, 2])\n",
    "        img = (img * 255.0).numpy().clip(0, 255).astype(np.uint8)\n",
    "        img = img[:, :, 0]\n",
    "\n",
    "        # Gather indices where label!= padding_token.\n",
    "        label = labels[i]\n",
    "        indices = tf.gather(label, tf.where(tf.math.not_equal(label, padding_token)))\n",
    "        # Convert to string.\n",
    "        label = tf.strings.reduce_join(num_to_char(indices))\n",
    "        label = label.numpy().decode(\"utf-8\")\n",
    "\n",
    "        ax[i // 4, i % 4].imshow(img, cmap=\"gray\")\n",
    "        ax[i // 4, i % 4].set_title(label)\n",
    "        ax[i // 4, i % 4].axis(\"off\")\n",
    "\n",
    "\n",
    "plt.show()"
   ]
  },
  {
   "cell_type": "markdown",
   "id": "63112dd5",
   "metadata": {},
   "source": [
    "# Model"
   ]
  },
  {
   "cell_type": "code",
   "execution_count": 95,
   "id": "4842d859",
   "metadata": {},
   "outputs": [
    {
     "name": "stdout",
     "output_type": "stream",
     "text": [
      "Model: \"handwriting_recognizer\"\n",
      "__________________________________________________________________________________________________\n",
      " Layer (type)                   Output Shape         Param #     Connected to                     \n",
      "==================================================================================================\n",
      " image (InputLayer)             [(None, 128, 32, 1)  0           []                               \n",
      "                                ]                                                                 \n",
      "                                                                                                  \n",
      " Conv1 (Conv2D)                 (None, 128, 32, 32)  320         ['image[0][0]']                  \n",
      "                                                                                                  \n",
      " pool1 (MaxPooling2D)           (None, 64, 16, 32)   0           ['Conv1[0][0]']                  \n",
      "                                                                                                  \n",
      " Conv2 (Conv2D)                 (None, 64, 16, 64)   18496       ['pool1[0][0]']                  \n",
      "                                                                                                  \n",
      " pool2 (MaxPooling2D)           (None, 32, 8, 64)    0           ['Conv2[0][0]']                  \n",
      "                                                                                                  \n",
      " reshape (Reshape)              (None, 32, 512)      0           ['pool2[0][0]']                  \n",
      "                                                                                                  \n",
      " dense1 (Dense)                 (None, 32, 64)       32832       ['reshape[0][0]']                \n",
      "                                                                                                  \n",
      " dropout_31 (Dropout)           (None, 32, 64)       0           ['dense1[0][0]']                 \n",
      "                                                                                                  \n",
      " bidirectional_62 (Bidirectiona  (None, 32, 256)     197632      ['dropout_31[0][0]']             \n",
      " l)                                                                                               \n",
      "                                                                                                  \n",
      " bidirectional_63 (Bidirectiona  (None, 32, 128)     164352      ['bidirectional_62[0][0]']       \n",
      " l)                                                                                               \n",
      "                                                                                                  \n",
      " label (InputLayer)             [(None, None)]       0           []                               \n",
      "                                                                                                  \n",
      " dense2 (Dense)                 (None, 32, 44)       5676        ['bidirectional_63[0][0]']       \n",
      "                                                                                                  \n",
      " ctc_loss (CTCLayer)            (None, 32, 44)       0           ['label[0][0]',                  \n",
      "                                                                  'dense2[0][0]']                 \n",
      "                                                                                                  \n",
      "==================================================================================================\n",
      "Total params: 419,308\n",
      "Trainable params: 419,308\n",
      "Non-trainable params: 0\n",
      "__________________________________________________________________________________________________\n"
     ]
    }
   ],
   "source": [
    "class CTCLayer(keras.layers.Layer):\n",
    "    def __init__(self, name=None):\n",
    "        super().__init__(name=name)\n",
    "        self.loss_fn = keras.backend.ctc_batch_cost\n",
    "\n",
    "    def call(self, y_true, y_pred):\n",
    "        batch_len = tf.cast(tf.shape(y_true)[0], dtype=\"int64\")\n",
    "        input_length = tf.cast(tf.shape(y_pred)[1], dtype=\"int64\")\n",
    "        label_length = tf.cast(tf.shape(y_true)[1], dtype=\"int64\")\n",
    "\n",
    "        input_length = input_length * tf.ones(shape=(batch_len, 1), dtype=\"int64\")\n",
    "        label_length = label_length * tf.ones(shape=(batch_len, 1), dtype=\"int64\")\n",
    "        loss = self.loss_fn(y_true, y_pred, input_length, label_length)\n",
    "        self.add_loss(loss)\n",
    "\n",
    "        # At test time, just return the computed predictions.\n",
    "        return y_pred\n",
    "\n",
    "def ctc_decode(y_pred):\n",
    "    batch_size = tf.shape(y_pred)[0]\n",
    "    input_length = tf.fill([batch_size], tf.shape(y_pred)[1])\n",
    "    result = tf.keras.backend.ctc_decode(y_pred, input_length, greedy=True)[0][0][:, :max_len]\n",
    "    return result\n",
    "    \n",
    "class CustomAccuracyMetric(keras.metrics.Metric):\n",
    "    def __init__(self, name=\"custom_accuracy\", **kwargs):\n",
    "        super(CustomAccuracyMetric, self).__init__(name=name, **kwargs)\n",
    "        self.correct_count = self.add_weight(name=\"correct_count\", initializer=\"zeros\")\n",
    "        self.total_count = self.add_weight(name=\"total_count\", initializer=\"zeros\")\n",
    "\n",
    "    def update_state(self, y_true, y_pred, sample_weight=None):\n",
    "        y_pred_decoded = ctc_decode(y_pred)\n",
    "        y_pred_decoded = tf.cast(y_pred_decoded, dtype=tf.float32)\n",
    "        y_true = tf.cast(y_true, dtype=tf.float32)\n",
    "        \n",
    "        # Reshape y_true and y_pred to ensure they have the same shape\n",
    "        y_true = tf.reshape(y_true, shape=(-1,))\n",
    "        y_pred_decoded = tf.reshape(y_pred_decoded, shape=(-1,))\n",
    "        \n",
    "        values = tf.cast(tf.equal(y_true, y_pred_decoded), dtype=tf.float32)\n",
    "        self.correct_count.assign_add(tf.reduce_sum(values))\n",
    "        self.total_count.assign_add(tf.size(y_true))\n",
    "\n",
    "    def result(self):\n",
    "        return self.correct_count / self.total_count\n",
    "\n",
    "    def reset_states(self):\n",
    "        # The state of the metric will be reset at the start of each epoch.\n",
    "        self.correct_count.assign(0.)\n",
    "        self.total_count.assign(0.)\n",
    "\n",
    "def build_model():\n",
    "    # Inputs to the model\n",
    "    input_img = keras.Input(shape=(image_width, image_height, 1), name=\"image\")\n",
    "    labels = keras.layers.Input(name=\"label\", shape=(None,))\n",
    "\n",
    "    # First conv block.\n",
    "    x = keras.layers.Conv2D(\n",
    "        32,\n",
    "        (3, 3),\n",
    "        activation=\"relu\",\n",
    "        kernel_initializer=\"he_normal\",\n",
    "        padding=\"same\",\n",
    "        name=\"Conv1\",\n",
    "    )(input_img)\n",
    "    x = keras.layers.MaxPooling2D((2, 2), name=\"pool1\")(x)\n",
    "\n",
    "    # Second conv block.\n",
    "    x = keras.layers.Conv2D(\n",
    "        64,\n",
    "        (3, 3),\n",
    "        activation=\"relu\",\n",
    "        kernel_initializer=\"he_normal\",\n",
    "        padding=\"same\",\n",
    "        name=\"Conv2\",\n",
    "    )(x)\n",
    "    x = keras.layers.MaxPooling2D((2, 2), name=\"pool2\")(x)\n",
    "\n",
    "    # We have used two max pool with pool size and strides 2.\n",
    "    # Hence, downsampled feature maps are 4x smaller. The number of\n",
    "    # filters in the last layer is 64. Reshape accordingly before\n",
    "    # passing the output to the RNN part of the model.\n",
    "    new_shape = ((image_width // 4), (image_height // 4) * 64)\n",
    "    x = keras.layers.Reshape(target_shape=new_shape, name=\"reshape\")(x)\n",
    "    x = keras.layers.Dense(64, activation=\"relu\", name=\"dense1\")(x)\n",
    "    x = keras.layers.Dropout(0.2)(x)\n",
    "\n",
    "    # RNNs.\n",
    "    x = keras.layers.Bidirectional(\n",
    "        keras.layers.LSTM(128, return_sequences=True, dropout=0.25)\n",
    "    )(x)\n",
    "    x = keras.layers.Bidirectional(\n",
    "        keras.layers.LSTM(64, return_sequences=True, dropout=0.25)\n",
    "    )(x)\n",
    "\n",
    "    # +2 is to account for the two special tokens introduced by the CTC loss.\n",
    "    # The recommendation comes here: https://git.io/J0eXP.\n",
    "    x = keras.layers.Dense(\n",
    "        len(char_to_num.get_vocabulary()) + 2, activation=\"softmax\", name=\"dense2\"\n",
    "    )(x)\n",
    "\n",
    "    # Add CTC layer for calculating CTC loss at each step.\n",
    "    output = CTCLayer(name=\"ctc_loss\")(labels, x)\n",
    "\n",
    "    # Define the model.\n",
    "    model = keras.models.Model(\n",
    "        inputs=[input_img, labels], outputs=output, name=\"handwriting_recognizer\"\n",
    "    )\n",
    "    # Optimizer.\n",
    "    opt = keras.optimizers.Adam()\n",
    "    # Compile the model and return.\n",
    "    model.compile(optimizer=opt, metrics=[CustomAccuracyMetric()])\n",
    "    return model\n",
    "\n",
    "\n",
    "# Get the model.\n",
    "model = build_model()\n",
    "model.summary()"
   ]
  },
  {
   "cell_type": "markdown",
   "id": "2a59bff9",
   "metadata": {},
   "source": [
    "# Evaluation"
   ]
  },
  {
   "cell_type": "code",
   "execution_count": 96,
   "id": "19a82697",
   "metadata": {},
   "outputs": [],
   "source": [
    "validation_images = []\n",
    "validation_labels = []\n",
    "\n",
    "for batch in validation_ds:\n",
    "    validation_images.append(batch[\"image\"])\n",
    "    validation_labels.append(batch[\"label\"])"
   ]
  },
  {
   "cell_type": "markdown",
   "id": "353a49d9",
   "metadata": {},
   "source": [
    "# Edit Distance"
   ]
  },
  {
   "cell_type": "code",
   "execution_count": 97,
   "id": "5dc4002b",
   "metadata": {},
   "outputs": [],
   "source": [
    "def calculate_edit_distance(labels, predictions):\n",
    "    # Get a single batch and convert its labels to sparse tensors.\n",
    "    saprse_labels = tf.cast(tf.sparse.from_dense(labels), dtype=tf.int64)\n",
    "\n",
    "    # Make predictions and convert them to sparse tensors.\n",
    "    input_len = np.ones(predictions.shape[0]) * predictions.shape[1]\n",
    "    predictions_decoded = keras.backend.ctc_decode(\n",
    "        predictions, input_length=input_len, greedy=True\n",
    "    )[0][0][:, :max_len]\n",
    "    sparse_predictions = tf.cast(\n",
    "        tf.sparse.from_dense(predictions_decoded), dtype=tf.int64\n",
    "    )\n",
    "\n",
    "    # Compute individual edit distances and average them out.\n",
    "    edit_distances = tf.edit_distance(\n",
    "        sparse_predictions, saprse_labels, normalize=False\n",
    "    )\n",
    "    return tf.reduce_mean(edit_distances)\n",
    "\n",
    "\n",
    "class EditDistanceCallback(keras.callbacks.Callback):\n",
    "    def __init__(self, pred_model):\n",
    "        super().__init__()\n",
    "        self.prediction_model = pred_model\n",
    "\n",
    "    def on_epoch_end(self, epoch, logs=None):\n",
    "        edit_distances = []\n",
    "\n",
    "        for i in range(len(validation_images)):\n",
    "            labels = validation_labels[i]\n",
    "            predictions = self.prediction_model.predict(validation_images[i], verbose=0)\n",
    "            edit_distances.append(calculate_edit_distance(labels, predictions).numpy())\n",
    "\n",
    "        print(\n",
    "            f\" Mean edit distance: {np.mean(edit_distances):.4f} \"\n",
    "        )\n",
    "\n",
    "\n",
    "\n",
    "def custom_accuracy(y_true, y_pred):\n",
    "    y_pred = ctc_decode(y_pred)\n",
    "    print(\n",
    "        f\" Accuracy: {tf.reduce_mean(tf.cast(tf.equal(y_true, y_pred), dtype=tf.float32))} \"\n",
    "    )\n",
    "\n",
    "class CustomAccuracyCallback(keras.callbacks.Callback):\n",
    "    def __init__(self, pred_model):\n",
    "        super().__init__()\n",
    "        self.prediction_model = pred_model\n",
    "        \n",
    "    def on_epoch_end(self, epoch, logs=None):\n",
    "        for i in range(len(validation_images)):\n",
    "            labels = validation_labels[i]\n",
    "            predictions = self.prediction_model.predict(validation_images[i], verbose=0)\n",
    "        custom_accuracy(labels, predictions)"
   ]
  },
  {
   "cell_type": "markdown",
   "id": "786657d6",
   "metadata": {},
   "source": [
    "# Training"
   ]
  },
  {
   "cell_type": "code",
   "execution_count": 98,
   "id": "4d8171f1",
   "metadata": {},
   "outputs": [
    {
     "name": "stdout",
     "output_type": "stream",
     "text": [
      "Epoch 1/2\n",
      "  6/517 [..............................] - ETA: 39s - loss: 50.5921 - custom_accuracy: nanWARNING:tensorflow:Callback method `on_train_batch_end` is slow compared to the batch time (batch time: 0.0698s vs `on_train_batch_end` time: 0.0723s). Check your callbacks.\n",
      "516/517 [============================>.] - ETA: 0s - loss: 20.3573 - custom_accuracy: nan Mean edit distance: 18.8962 \n",
      " Accuracy: 0.003289473708719015 \n",
      "517/517 [==============================] - 68s 120ms/step - loss: 20.3575 - custom_accuracy: nan - val_loss: 19.2180 - val_custom_accuracy: nan\n",
      "Epoch 2/2\n",
      "516/517 [============================>.] - ETA: 0s - loss: 18.6737 - custom_accuracy: nan Mean edit distance: 18.4050 \n",
      " Accuracy: 0.027960525825619698 \n",
      "517/517 [==============================] - 60s 117ms/step - loss: 18.6740 - custom_accuracy: nan - val_loss: 18.2367 - val_custom_accuracy: nan\n"
     ]
    }
   ],
   "source": [
    "epochs = 2\n",
    "\n",
    "model = build_model()\n",
    "prediction_model = keras.models.Model(\n",
    "    model.get_layer(name=\"image\").input, model.get_layer(name=\"dense2\").output\n",
    ")\n",
    "edit_distance_callback = EditDistanceCallback(prediction_model)\n",
    "\n",
    "custom_accuracy_callback = CustomAccuracyCallback(prediction_model)\n",
    "\n",
    "from keras.callbacks import EarlyStopping\n",
    "early_stopping = EarlyStopping(monitor='val_loss', patience=3)\n",
    "\n",
    "# Train the model.\n",
    "history = model.fit(\n",
    "    train_ds,\n",
    "    validation_data=validation_ds,\n",
    "    epochs=epochs,\n",
    "    callbacks=[edit_distance_callback, early_stopping, custom_accuracy_callback],\n",
    "    verbose=1\n",
    ")"
   ]
  },
  {
   "cell_type": "code",
   "execution_count": 99,
   "id": "9af39d31",
   "metadata": {},
   "outputs": [
    {
     "name": "stdout",
     "output_type": "stream",
     "text": [
      "{'loss': [20.357484817504883, 18.674030303955078], 'custom_accuracy': [nan, nan], 'val_loss': [19.218040466308594, 18.236652374267578], 'val_custom_accuracy': [nan, nan]}\n"
     ]
    }
   ],
   "source": [
    "print(history.history)"
   ]
  },
  {
   "cell_type": "markdown",
   "id": "ba63bc63",
   "metadata": {},
   "source": [
    "# Inference"
   ]
  },
  {
   "cell_type": "code",
   "execution_count": null,
   "id": "eb7b18e8",
   "metadata": {},
   "outputs": [],
   "source": [
    "def calculate_match_percentage(actual, predicted):\n",
    "    if len(actual) == 0:\n",
    "        return 0.0\n",
    "    match = sum([1 for a, b in zip(actual, predicted) if a == b])\n",
    "    return match / len(actual)\n",
    "\n",
    "# A utility function to decode the output of the network.\n",
    "def decode_batch_predictions(pred):\n",
    "    input_len = np.ones(pred.shape[0]) * pred.shape[1]\n",
    "    # Use greedy search. For complex tasks, you can use beam search.\n",
    "    results = keras.backend.ctc_decode(pred, input_length=input_len, greedy=True)[0][0][\n",
    "        :, :max_len\n",
    "    ]\n",
    "    # Iterate over the results and get back the text.\n",
    "    output_text = []\n",
    "    for res in results:\n",
    "        res = tf.gather(res, tf.where(tf.math.not_equal(res, -1)))\n",
    "        res = tf.strings.reduce_join(num_to_char(res)).numpy().decode(\"utf-8\")\n",
    "        output_text.append(res)\n",
    "    return output_text\n",
    "\n",
    "\n",
    "#  Let's check results on some test samples.\n",
    "for batch in test_ds.take(1):\n",
    "    batch_images = batch[\"image\"]\n",
    "    batch_labels = batch[\"label\"]\n",
    "    _, ax = plt.subplots(4, 4, figsize=(15, 8))\n",
    "\n",
    "    preds = prediction_model.predict(batch_images)\n",
    "    pred_texts = decode_batch_predictions(preds)\n",
    "    \n",
    "    for i in range(16):\n",
    "        img = batch_images[i]\n",
    "        img = tf.image.flip_left_right(img)\n",
    "        img = tf.transpose(img, perm=[1, 0, 2])\n",
    "        img = (img * 255.0).numpy().clip(0, 255).astype(np.uint8)\n",
    "        img = img[:, :, 0]\n",
    "\n",
    "        # Gather indices where label!= padding_token\n",
    "        batch_label = batch_labels[i]\n",
    "        indices = tf.gather(batch_label, tf.where(tf.math.not_equal(batch_label, padding_token)))\n",
    "        # Convert to string.\n",
    "        batch_label = tf.strings.reduce_join(num_to_char(indices))\n",
    "        batch_label = batch_label.numpy().decode(\"utf-8\")\n",
    "        \n",
    "        title = f\"Prediction: {pred_texts[i]}\\nActual: {batch_label}\\n{calculate_match_percentage(batch_label, pred_texts[i]) * 100:.2f}% match\"\n",
    "        ax[i // 4, i % 4].imshow(img, cmap=\"gray\")\n",
    "        ax[i // 4, i % 4].set_title(title)\n",
    "        ax[i // 4, i % 4].axis(\"off\")\n",
    "\n",
    "plt.show()"
   ]
  },
  {
   "cell_type": "code",
   "execution_count": null,
   "id": "434b1ba7",
   "metadata": {},
   "outputs": [],
   "source": []
  },
  {
   "cell_type": "code",
   "execution_count": null,
   "id": "e9cb4557",
   "metadata": {},
   "outputs": [],
   "source": []
  },
  {
   "cell_type": "code",
   "execution_count": null,
   "id": "9b116a73",
   "metadata": {},
   "outputs": [],
   "source": []
  },
  {
   "cell_type": "code",
   "execution_count": null,
   "id": "42ab29e1",
   "metadata": {},
   "outputs": [],
   "source": []
  },
  {
   "cell_type": "code",
   "execution_count": null,
   "id": "23488f83",
   "metadata": {},
   "outputs": [],
   "source": []
  },
  {
   "cell_type": "code",
   "execution_count": null,
   "id": "acb297af",
   "metadata": {},
   "outputs": [],
   "source": []
  },
  {
   "cell_type": "code",
   "execution_count": null,
   "id": "870ffbc4",
   "metadata": {},
   "outputs": [],
   "source": []
  },
  {
   "cell_type": "code",
   "execution_count": null,
   "id": "0badb95d",
   "metadata": {},
   "outputs": [],
   "source": []
  },
  {
   "cell_type": "code",
   "execution_count": null,
   "id": "2886ec04",
   "metadata": {},
   "outputs": [],
   "source": []
  },
  {
   "cell_type": "code",
   "execution_count": null,
   "id": "8dc1b06f",
   "metadata": {},
   "outputs": [],
   "source": []
  },
  {
   "cell_type": "code",
   "execution_count": null,
   "id": "07e32057",
   "metadata": {},
   "outputs": [],
   "source": []
  },
  {
   "cell_type": "code",
   "execution_count": null,
   "id": "19c78aba",
   "metadata": {},
   "outputs": [],
   "source": []
  }
 ],
 "metadata": {
  "kernelspec": {
   "display_name": "Python 3 (ipykernel)",
   "language": "python",
   "name": "python3"
  },
  "language_info": {
   "codemirror_mode": {
    "name": "ipython",
    "version": 3
   },
   "file_extension": ".py",
   "mimetype": "text/x-python",
   "name": "python",
   "nbconvert_exporter": "python",
   "pygments_lexer": "ipython3",
   "version": "3.10.14"
  }
 },
 "nbformat": 4,
 "nbformat_minor": 5
}
